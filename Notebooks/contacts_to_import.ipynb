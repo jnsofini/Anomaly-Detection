{
 "cells": [
  {
   "cell_type": "markdown",
   "metadata": {},
   "source": [
    "## Basics instruction\n",
    "run the cell by __shift enter__\n",
    "\n",
    "# Contact analysis\n",
    "Here we want to fingure which contacts should be imported and which shouldn't\n",
    " - Comparing system contacts to ISR contacts\n",
    " - Get the compliment"
   ]
  },
  {
   "cell_type": "code",
   "execution_count": null,
   "metadata": {},
   "outputs": [],
   "source": [
    "import pandas as pd\n",
    "import numpy as np"
   ]
  },
  {
   "cell_type": "markdown",
   "metadata": {},
   "source": [
    "### Getting data"
   ]
  },
  {
   "cell_type": "code",
   "execution_count": null,
   "metadata": {},
   "outputs": [],
   "source": [
    "# file location\n",
    "minerva_path = r'C:\\Users\\Downloads\\Contacts Advanced Find View 2020-09-01 11-26-04 AM.xlsx'\n",
    "isr_path = r'C:\\Users\\Documents\\List Template_ISR updates.xlsx'"
   ]
  },
  {
   "cell_type": "code",
   "execution_count": null,
   "metadata": {},
   "outputs": [],
   "source": [
    "def get_contact_difference(system_file, external_file, on):\n",
    "    \"\"\"Takes two pd.dataframe objects and create complement file of external_file. That is data that is in\n",
    "    external_file and not in system_file\n",
    "\n",
    "    Args:\n",
    "        system_file (pd.dataframe): data that is present in the system\n",
    "        external_file (pd.dataframe): external file to be imported\n",
    "        on (list): columns to base the comparison on\n",
    "\n",
    "    Returns:\n",
    "        pd.dataframe: the difference data equivalent to B n A - A for set A and B\n",
    "    \"\"\"\n",
    "\n",
    "    common_contacts = pd.merge(system_file[on], external_file, on=on) #Intersection\n",
    "    contacts_to_import = pd.concat(\n",
    "        [common_contacts, external_file], sort=False\n",
    "        ).drop_duplicates(keep=False) #Use intersection and original file to get the difference\n",
    "\n",
    "    return contacts_to_import"
   ]
  },
  {
   "cell_type": "code",
   "execution_count": null,
   "metadata": {},
   "outputs": [],
   "source": [
    "#Get data\n",
    "system_contact = pd.read_excel(minerva_path)\n",
    "isr_contact = pd.read_excel(isr_path, header=1)\n",
    "#format column headers to title format\n",
    "system_contact.columns = [c.title() for c in system_contact.columns]"
   ]
  },
  {
   "cell_type": "code",
   "execution_count": null,
   "metadata": {},
   "outputs": [],
   "source": [
    "cols = ['First Name', 'Last Name', 'Email']\n",
    "\n",
    "contacts_to_import = get_contact_difference(system_contact, isr_contact, cols)"
   ]
  },
  {
   "cell_type": "code",
   "execution_count": null,
   "metadata": {},
   "outputs": [],
   "source": [
    "#Save data to csv\n",
    "contacts_to_import.to_csv('contacts_not_in_system.csv')"
   ]
  },
  {
   "cell_type": "code",
   "execution_count": null,
   "metadata": {},
   "outputs": [],
   "source": [
    "contacts_already_in_system = pd.merge(system_contact[on], isr_contact, on=cols) #Intersection\n",
    "#Save data to csv\n",
    "contacts_already_in_system.to_csv('contacts_already_in_system.csv')"
   ]
  }
 ],
 "metadata": {
  "kernelspec": {
   "display_name": "Python 3",
   "language": "python",
   "name": "python3"
  },
  "language_info": {
   "codemirror_mode": {
    "name": "ipython",
    "version": 3
   },
   "file_extension": ".py",
   "mimetype": "text/x-python",
   "name": "python",
   "nbconvert_exporter": "python",
   "pygments_lexer": "ipython3",
   "version": "3.7.3"
  }
 },
 "nbformat": 4,
 "nbformat_minor": 2
}
